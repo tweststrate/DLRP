{
 "cells": [
  {
   "cell_type": "code",
   "execution_count": 2,
   "id": "accessory-titanium",
   "metadata": {},
   "outputs": [],
   "source": [
    "import numpy as np\n",
    "from scipy.ndimage import affine_transform\n",
    "import matplotlib.pyplot as plt\n",
    "from tqdm import tqdm"
   ]
  },
  {
   "cell_type": "code",
   "execution_count": 3,
   "id": "capable-award",
   "metadata": {},
   "outputs": [],
   "source": [
    "test_labels_path = 'C:/Users/twest/Documents/school/Master/Deep Learning/Project/Code/testlabels_183.npy'\n",
    "test_data_path = 'C:/Users/twest/Documents/school/Master/Deep Learning/Project/Code/testdata48_183.npy'\n",
    "train_labels_path = 'C:/Users/twest/Documents/school/Master/Deep Learning/Project/Code/traininglabels_183.npy'\n",
    "train_data_path = 'C:/Users/twest/Documents/school/Master/Deep Learning/Project/Code/trainingdata48_183.npy'\n",
    "test_labels = np.load(test_labels_path)\n",
    "test_data = np.load(test_data_path)\n",
    "train_labels = np.load(train_labels_path)\n",
    "train_data = np.load(train_data_path)"
   ]
  },
  {
   "cell_type": "code",
   "execution_count": 4,
   "id": "selective-validity",
   "metadata": {},
   "outputs": [],
   "source": [
    "def augmentation(data, labels, num_Trans):\n",
    "    \"\"\"\n",
    "    Create num_trans different random affine transformations for each\n",
    "    of the data point in the dataset and shuffle the dataset after\n",
    "    \"\"\"\n",
    "    #New_data = np.array([]).reshape(data.shape[1],data.shape[2],0)\n",
    "    #New_labels = np.array([])\n",
    "    \n",
    "    New_data = np.zeros((data.shape[0]*(num_Trans+1), data.shape[1], data.shape[2]))\n",
    "    New_labels = np.zeros((labels.shape[0]*(num_Trans+1)))\n",
    "    \n",
    "    count = 0\n",
    "    \n",
    "    for i, D in tqdm(enumerate(data)):\n",
    "        #New_data = np.dstack((New_data, D))\n",
    "        #New_labels = np.append(New_labels, labels[i])\n",
    "        \n",
    "        New_data[count,:,:] = D\n",
    "        New_labels[count] = labels[i]\n",
    "        count += 1\n",
    "        \n",
    "        plt.imshow(D)\n",
    "        plt.show()\n",
    "        \n",
    "        affine_matrixes = random_matrixes(num_Trans, data.shape[1])\n",
    "        \n",
    "        for j in range(num_Trans):\n",
    "            affine = affine_transform(D, affine_matrixes[j,:,:])\n",
    "            \n",
    "            affine[affine>0.25] = 1\n",
    "            affine[affine<0.25] = 0\n",
    "            affine = np.fliplr(affine)\n",
    "            #affine = affine.astype('int8')\n",
    "            \n",
    "            #New_data = np.dstack((New_data, affine))\n",
    "            #New_labels = np.append(New_labels, labels[i])\n",
    "            \n",
    "            New_data[count,:,:] = D\n",
    "            New_labels[count] = labels[i]\n",
    "            count += 1\n",
    "            \n",
    "            plt.imshow(affine)\n",
    "            plt.show()\n",
    "        if i == 0:\n",
    "            crash\n",
    "            \n",
    "    New_data, New_labels = shuffle_data(New_data, New_labels)\n",
    "    \n",
    "    return New_data, New_labels"
   ]
  },
  {
   "cell_type": "code",
   "execution_count": 5,
   "id": "israeli-nancy",
   "metadata": {},
   "outputs": [],
   "source": [
    "def random_matrixes(num_Trans, size, trans=[-10, 10], rot=[-10, 10], scale=[0.8, 1.2], shear=[-0.3, 0.3]):\n",
    "    \"\"\"\n",
    "    Create the random affine matrixes for the transformations\n",
    "    \"\"\"\n",
    "    transX_F = np.random.uniform(trans[0], trans[1], num_Trans)\n",
    "    transY_F = np.random.uniform(trans[0], trans[1], num_Trans)\n",
    "    rot_F   = np.random.uniform(rot[0], rot[1], num_Trans)\n",
    "    scaleX_F = np.random.uniform(scale[0], scale[1], num_Trans)\n",
    "    scaleY_F = np.random.uniform(scale[0], scale[1], num_Trans)\n",
    "    shearX_F = np.random.uniform(shear[0], shear[1], num_Trans)\n",
    "    shearY_F = np.random.uniform(shear[0], shear[1], num_Trans)\n",
    "    \n",
    "    matrixes = []\n",
    "    \n",
    "    for i in range(num_Trans):\n",
    "        mat_trans  = np.array([[1,0,transX_F[i]],[0,1,transY_F[i]],[0,0,1]])\n",
    "        mat_scale  = np.array([[scaleX_F[i],0,0],[0,scaleY_F[i],0],[0,0,1]])\n",
    "        mat_shearx = np.array([[1,shearX_F[i],0],[0,1,0],[0,0,1]])\n",
    "        mat_sheary = np.array([[1,0,0],[shearY_F[i],1,0],[0,0,1]])\n",
    "        \n",
    "        theta = rot_F[i] * (np.pi / 180)\n",
    "        mat_rot1 = np.array([[1,0,size/2],[0,1,size/2],[0,0,1]])\n",
    "        mat_rot2 = np.array([[np.cos(theta),np.sin(theta),0],[np.sin(theta),-np.cos(theta),0],[0,0,1]])\n",
    "        mat_rot3 = np.array([[1,0,-size/2],[0,1,-size/2],[0,0,1]])\n",
    "        \n",
    "        mat_rot = mat_rot1 @ mat_rot2 @ mat_rot3\n",
    "        #mat_rot = np.array([[1,0,0],[0,1,0],[0,0,1]])\n",
    "        \n",
    "        mat_all = mat_trans @ mat_scale @ mat_shearx @ mat_sheary @ mat_rot\n",
    "    \n",
    "        matrixes.append(mat_all)\n",
    "    \n",
    "    return np.asarray(matrixes)"
   ]
  },
  {
   "cell_type": "code",
   "execution_count": 6,
   "id": "boring-queen",
   "metadata": {},
   "outputs": [],
   "source": [
    "def shuffle_data(data, labels):\n",
    "    \"\"\"\n",
    "    applies a random shuffle on the data and labels\n",
    "    \"\"\"\n",
    "    Shuffled_D = np.zeros(data.shape)\n",
    "    Shuffled_L = np.zeros(labels.shape)\n",
    "    \n",
    "    indexes = np.arange(labels.shape[0])\n",
    "    np.random.shuffle(indexes)\n",
    "    \n",
    "    for i, ind in enumerate(indexes):\n",
    "        Shuffled_D[i,:,:] = data[ind,:,:]\n",
    "        Shuffled_L[i] = labels[ind]\n",
    "    \n",
    "    return Shuffled_D, Shuffled_L"
   ]
  },
  {
   "cell_type": "code",
   "execution_count": 7,
   "id": "defensive-small",
   "metadata": {},
   "outputs": [
    {
     "name": "stderr",
     "output_type": "stream",
     "text": [
      "\r",
      "0it [00:00, ?it/s]"
     ]
    },
    {
     "data": {
      "image/png": "[encoded data removed]",
      "text/plain": [
       "<Figure size 432x288 with 1 Axes>"
      ]
     },
     "metadata": {
      "needs_background": "light"
     },
     "output_type": "display_data"
    },
    {
     "data": {
      "image/png": "[encoded data removed]",
      "text/plain": [
       "<Figure size 432x288 with 1 Axes>"
      ]
     },
     "metadata": {
      "needs_background": "light"
     },
     "output_type": "display_data"
    },
    {
     "data": {
      "image/png": "[encoded data removed]",
      "text/plain": [
       "<Figure size 432x288 with 1 Axes>"
      ]
     },
     "metadata": {
      "needs_background": "light"
     },
     "output_type": "display_data"
    },
    {
     "data": {
      "image/png": "[encoded data removed]",
      "text/plain": [
       "<Figure size 432x288 with 1 Axes>"
      ]
     },
     "metadata": {
      "needs_background": "light"
     },
     "output_type": "display_data"
    },
    {
     "data": {
      "image/png": "[encoded data removed]",
      "text/plain": [
       "<Figure size 432x288 with 1 Axes>"
      ]
     },
     "metadata": {
      "needs_background": "light"
     },
     "output_type": "display_data"
    },
    {
     "data": {
      "image/png": "[encoded data removed]",
      "text/plain": [
       "<Figure size 432x288 with 1 Axes>"
      ]
     },
     "metadata": {
      "needs_background": "light"
     },
     "output_type": "display_data"
    },
    {
     "data": {
      "image/png": "[encoded data removed]",
      "text/plain": [
       "<Figure size 432x288 with 1 Axes>"
      ]
     },
     "metadata": {
      "needs_background": "light"
     },
     "output_type": "display_data"
    },
    {
     "data": {
      "image/png": "[encoded data removed]",
      "text/plain": [
       "<Figure size 432x288 with 1 Axes>"
      ]
     },
     "metadata": {
      "needs_background": "light"
     },
     "output_type": "display_data"
    },
    {
     "data": {
      "image/png": "[encoded data removed]",
      "text/plain": [
       "<Figure size 432x288 with 1 Axes>"
      ]
     },
     "metadata": {
      "needs_background": "light"
     },
     "output_type": "display_data"
    },
    {
     "data": {
      "image/png": "[encoded data removed]",
      "text/plain": [
       "<Figure size 432x288 with 1 Axes>"
      ]
     },
     "metadata": {
      "needs_background": "light"
     },
     "output_type": "display_data"
    },
    {
     "name": "stderr",
     "output_type": "stream",
     "text": [
      "0it [00:00, ?it/s]\n"
     ]
    },
    {
     "ename": "NameError",
     "evalue": "name 'crash' is not defined",
     "output_type": "error",
     "traceback": [
      "\u001b[1;31m---------------------------------------------------------------------------\u001b[0m",
      "\u001b[1;31mNameError\u001b[0m                                 Traceback (most recent call last)",
      "\u001b[1;32m<ipython-input-7-6d4f22935ee5>\u001b[0m in \u001b[0;36m<module>\u001b[1;34m\u001b[0m\n\u001b[1;32m----> 1\u001b[1;33m \u001b[0mNew_data\u001b[0m\u001b[1;33m,\u001b[0m \u001b[0mNew_labels\u001b[0m \u001b[1;33m=\u001b[0m \u001b[0maugmentation\u001b[0m\u001b[1;33m(\u001b[0m\u001b[0mtrain_data\u001b[0m\u001b[1;33m,\u001b[0m \u001b[0mtrain_labels\u001b[0m\u001b[1;33m,\u001b[0m \u001b[1;36m9\u001b[0m\u001b[1;33m)\u001b[0m\u001b[1;33m\u001b[0m\u001b[1;33m\u001b[0m\u001b[0m\n\u001b[0m\u001b[0;32m      2\u001b[0m \u001b[0mnp\u001b[0m\u001b[1;33m.\u001b[0m\u001b[0msave\u001b[0m\u001b[1;33m(\u001b[0m\u001b[1;34m'Train_augmented_48'\u001b[0m\u001b[1;33m,\u001b[0m\u001b[0mNew_data\u001b[0m\u001b[1;33m)\u001b[0m\u001b[1;33m\u001b[0m\u001b[1;33m\u001b[0m\u001b[0m\n\u001b[0;32m      3\u001b[0m \u001b[0mnp\u001b[0m\u001b[1;33m.\u001b[0m\u001b[0msave\u001b[0m\u001b[1;33m(\u001b[0m\u001b[1;34m'Train_labels_48'\u001b[0m\u001b[1;33m,\u001b[0m\u001b[0mNew_labels\u001b[0m\u001b[1;33m)\u001b[0m\u001b[1;33m\u001b[0m\u001b[1;33m\u001b[0m\u001b[0m\n",
      "\u001b[1;32m<ipython-input-4-0d12885f9074>\u001b[0m in \u001b[0;36maugmentation\u001b[1;34m(data, labels, num_Trans)\u001b[0m\n\u001b[0;32m     43\u001b[0m             \u001b[0mplt\u001b[0m\u001b[1;33m.\u001b[0m\u001b[0mshow\u001b[0m\u001b[1;33m(\u001b[0m\u001b[1;33m)\u001b[0m\u001b[1;33m\u001b[0m\u001b[1;33m\u001b[0m\u001b[0m\n\u001b[0;32m     44\u001b[0m         \u001b[1;32mif\u001b[0m \u001b[0mi\u001b[0m \u001b[1;33m==\u001b[0m \u001b[1;36m0\u001b[0m\u001b[1;33m:\u001b[0m\u001b[1;33m\u001b[0m\u001b[1;33m\u001b[0m\u001b[0m\n\u001b[1;32m---> 45\u001b[1;33m             \u001b[0mcrash\u001b[0m\u001b[1;33m\u001b[0m\u001b[1;33m\u001b[0m\u001b[0m\n\u001b[0m\u001b[0;32m     46\u001b[0m \u001b[1;33m\u001b[0m\u001b[0m\n\u001b[0;32m     47\u001b[0m     \u001b[0mNew_data\u001b[0m\u001b[1;33m,\u001b[0m \u001b[0mNew_labels\u001b[0m \u001b[1;33m=\u001b[0m \u001b[0mshuffle_data\u001b[0m\u001b[1;33m(\u001b[0m\u001b[0mNew_data\u001b[0m\u001b[1;33m,\u001b[0m \u001b[0mNew_labels\u001b[0m\u001b[1;33m)\u001b[0m\u001b[1;33m\u001b[0m\u001b[1;33m\u001b[0m\u001b[0m\n",
      "\u001b[1;31mNameError\u001b[0m: name 'crash' is not defined"
     ]
    }
   ],
   "source": [
    "New_data, New_labels = augmentation(train_data, train_labels, 9)\n",
    "np.save('Train_augmented_48',New_data)\n",
    "np.save('Train_labels_48',New_labels)"
   ]
  },
  {
   "cell_type": "code",
   "execution_count": null,
   "id": "combined-romania",
   "metadata": {},
   "outputs": [],
   "source": []
  }
 ],
 "metadata": {
  "kernelspec": {
   "display_name": "Python 3",
   "language": "python",
   "name": "python3"
  },
  "language_info": {
   "codemirror_mode": {
    "name": "ipython",
    "version": 3
   },
   "file_extension": ".py",
   "mimetype": "text/x-python",
   "name": "python",
   "nbconvert_exporter": "python",
   "pygments_lexer": "ipython3",
   "version": "3.7.10"
  }
 },
 "nbformat": 4,
 "nbformat_minor": 5
}
